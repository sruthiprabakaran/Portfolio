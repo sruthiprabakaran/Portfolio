{
  "nbformat": 4,
  "nbformat_minor": 0,
  "metadata": {
    "colab": {
      "name": "guessing_a_random_number.ipynb",
      "provenance": [],
      "collapsed_sections": [],
      "authorship_tag": "ABX9TyPVMlEw5Vl5OR0ydzNZuvGK",
      "include_colab_link": true
    },
    "kernelspec": {
      "name": "python3",
      "display_name": "Python 3"
    }
  },
  "cells": [
    {
      "cell_type": "markdown",
      "metadata": {
        "id": "view-in-github",
        "colab_type": "text"
      },
      "source": [
        "<a href=\"https://colab.research.google.com/github/sruthiprabakaran/python/blob/master/guessing_a_random_number.ipynb\" target=\"_parent\"><img src=\"https://colab.research.google.com/assets/colab-badge.svg\" alt=\"Open In Colab\"/></a>"
      ]
    },
    {
      "cell_type": "code",
      "metadata": {
        "colab_type": "code",
        "outputId": "9cde25fa-5896-4b43-fe26-fcc722953169",
        "id": "BK6Gs8tkAGbZ",
        "colab": {
          "base_uri": "https://localhost:8080/",
          "height": 134
        }
      },
      "source": [
        "import random\n",
        "computer=random.randrange(0,20)\n",
        "print(computer)\n",
        "def randomnumber(computer):\n",
        "  user=int(input(\"enter a number\"))\n",
        "  if user<computer:\n",
        "      print(\"the guessed number is less than the actual number:Please try again\")\n",
        "      randomnumber(computer)\n",
        "  elif user>computer:\n",
        "      print(\"the guessed number is greater than the actual number:Please try again\")  \n",
        "      randomnumber(computer)\n",
        "  else:print(\"congratulations!! you have guessed the number correctly\")\n",
        "randomnumber(computer)      "
      ],
      "execution_count": 18,
      "outputs": [
        {
          "output_type": "stream",
          "text": [
            "7\n",
            "enter a number6\n",
            "the guessed number is less than the actual number:Please try again\n",
            "enter a number5\n",
            "the guessed number is less than the actual number:Please try again\n",
            "enter a number7\n",
            "congratulations!! you have guessed the number correctly\n"
          ],
          "name": "stdout"
        }
      ]
    }
  ]
}