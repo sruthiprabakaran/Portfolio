{
  "nbformat": 4,
  "nbformat_minor": 0,
  "metadata": {
    "colab": {
      "name": "rock_paper_scissor.ipynb",
      "provenance": [],
      "collapsed_sections": [],
      "authorship_tag": "ABX9TyMOwNHThi2HNCSl8JaAj+cI",
      "include_colab_link": true
    },
    "kernelspec": {
      "name": "python3",
      "display_name": "Python 3"
    }
  },
  "cells": [
    {
      "cell_type": "markdown",
      "metadata": {
        "id": "view-in-github",
        "colab_type": "text"
      },
      "source": [
        "<a href=\"https://colab.research.google.com/github/sruthiprabakaran/python/blob/master/rock_paper_scissor.ipynb\" target=\"_parent\"><img src=\"https://colab.research.google.com/assets/colab-badge.svg\" alt=\"Open In Colab\"/></a>"
      ]
    },
    {
      "cell_type": "code",
      "metadata": {
        "id": "YDxDbvaBIP_Y",
        "colab_type": "code",
        "colab": {
          "base_uri": "https://localhost:8080/",
          "height": 134
        },
        "outputId": "80101076-333b-4a38-b0d3-2c54f746aaea"
      },
      "source": [
        "import random\n",
        "ans=['rock','paper','scissor']\n",
        "user=''\n",
        "computer='a'\n",
        "while computer!=user:\n",
        "  computer=random.choice(ans)\n",
        "  user=str(input(\"enter your choice: \"))\n",
        "  if computer=='rock':\n",
        "    if user=='paper':\n",
        "      print(\"computer chose:{}\".format(computer))\n",
        "      print(\"user wins\")\n",
        "    elif user=='scissor': \n",
        "      print(\"computer chose:{}\".format(computer))\n",
        "      print(\"computer wins\") \n",
        "  elif computer=='paper':\n",
        "    if user=='rock':\n",
        "      print(\"computer chose:{}\".format(computer))\n",
        "      print(\"computer wins\")\n",
        "    elif user=='scissor':\n",
        "      print(\"computer chose:{}\".format(computer))\n",
        "      print(\"user wins\")\n",
        "  else:\n",
        "    if user=='rock':\n",
        "      print(\"computer chose:{}\".format(computer))\n",
        "      print(\"user wins\")\n",
        "    elif user=='paper':\n",
        "      print(\"computer chose:{}\".format(computer))\n",
        "      print(\"computer wins\")\n",
        "print(\"computer chose:{}\".format(computer))\n",
        "print(\"draw\")      \n",
        "print(\"game over\")            \n"
      ],
      "execution_count": 10,
      "outputs": [
        {
          "output_type": "stream",
          "text": [
            "enter your choice: paper\n",
            "user wins\n",
            "computer chose:rock\n",
            "enter your choice: rock\n",
            "draw\n",
            "computer chose:rock\n",
            "game over\n"
          ],
          "name": "stdout"
        }
      ]
    }
  ]
}